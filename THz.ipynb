{
 "cells": [
  {
   "cell_type": "code",
   "execution_count": 59,
   "id": "63e51632",
   "metadata": {},
   "outputs": [],
   "source": [
    "import numpy as np\n",
    "import pandas as pd\n",
    "import matplotlib.pyplot as plot\n",
    "from numpy import save\n",
    "from sklearn.model_selection import train_test_split\n",
    "from sklearn.linear_model import LinearRegression\n",
    "from sklearn.linear_model import Ridge\n",
    "from sklearn.linear_model import Lasso\n",
    "from sklearn.linear_model import LogisticRegression\n",
    "from sklearn.linear_model import ElasticNet\n",
    "from sklearn.ensemble import RandomForestRegressor\n",
    "from sklearn.ensemble import GradientBoostingRegressor\n",
    "from sklearn.svm import SVR\n",
    "from sklearn.metrics import mean_squared_error,r2_score"
   ]
  },
  {
   "cell_type": "code",
   "execution_count": 60,
   "id": "b25cfefe",
   "metadata": {},
   "outputs": [],
   "source": [
    "path_data = '/Users/tinkantapong/nectec/Dataset/THz_Spectrum/untitled folder/THz_Spectrum'\n",
    "path_y = '/Users/tinkantapong/nectec/Dataset/THz_Spectrum/all_processed_data.npz'"
   ]
  },
  {
   "cell_type": "code",
   "execution_count": 61,
   "id": "61908dae",
   "metadata": {},
   "outputs": [],
   "source": [
    "THz_Spectrum_list = []\n",
    "for n in range(1,401,1):\n",
    "    data = np.load(path_data+str(n)+'.npy')\n",
    "    Data_1D = np.ravel(data)\n",
    "    THz_Spectrum_list.append(Data_1D)\n",
    "    "
   ]
  },
  {
   "cell_type": "code",
   "execution_count": 62,
   "id": "c2766e04",
   "metadata": {},
   "outputs": [],
   "source": [
    "THz_Spectrum_arr = np.array(THz_Spectrum_list)\n",
    "#THz_Spectrum_arr.shape"
   ]
  },
  {
   "cell_type": "code",
   "execution_count": 63,
   "id": "47703ccf",
   "metadata": {},
   "outputs": [],
   "source": [
    "data_y = np.load(path_y)\n",
    "y = data_y['y']"
   ]
  },
  {
   "cell_type": "code",
   "execution_count": 64,
   "id": "464ec034",
   "metadata": {},
   "outputs": [],
   "source": [
    "X_train, X_test, y_train, y_test = train_test_split(THz_Spectrum_arr,y,test_size=0.2, train_size=0.8)"
   ]
  },
  {
   "cell_type": "code",
   "execution_count": 65,
   "id": "a6067c08",
   "metadata": {},
   "outputs": [
    {
     "name": "stdout",
     "output_type": "stream",
     "text": [
      "(320, 4096)\n",
      "(80, 4096)\n",
      "(320, 3)\n",
      "(80, 3)\n"
     ]
    }
   ],
   "source": [
    "print(X_train.shape)\n",
    "print(X_test.shape)\n",
    "print(y_train.shape)\n",
    "print(y_test.shape)"
   ]
  },
  {
   "cell_type": "code",
   "execution_count": 66,
   "id": "860f4f96",
   "metadata": {},
   "outputs": [],
   "source": [
    "model_Linear = LinearRegression()\n",
    "model_Ridge = Ridge()\n",
    "model_Lasso = Lasso()\n",
    "model_ElasticNet = ElasticNet()\n",
    "model_RandomForestRegressor = RandomForestRegressor()"
   ]
  },
  {
   "cell_type": "code",
   "execution_count": 69,
   "id": "ba1601f7",
   "metadata": {},
   "outputs": [
    {
     "data": {
      "text/plain": [
       "RandomForestRegressor()"
      ]
     },
     "execution_count": 69,
     "metadata": {},
     "output_type": "execute_result"
    }
   ],
   "source": [
    "model_Linear.fit(X_train,y_train)\n",
    "model_Ridge.fit(X_train,y_train)\n",
    "model_Lasso.fit(X_train,y_train)\n",
    "model_ElasticNet.fit(X_train,y_train)\n",
    "model_RandomForestRegressor.fit(X_train,y_train)"
   ]
  },
  {
   "cell_type": "code",
   "execution_count": 74,
   "id": "009dbdfa",
   "metadata": {},
   "outputs": [],
   "source": [
    "y_pred_Linear = model_Linear.predict(X_test)\n",
    "y_pred_Ridge = model_Ridge.predict(X_test)\n",
    "y_pred_Lasso = model_Lasso.predict(X_test)\n",
    "y_pred_ElasticNet = model_ElasticNet.predict(X_test)\n",
    "y_pred_RandomForestRegressor =model_RandomForestRegressor.predict(X_test)"
   ]
  },
  {
   "cell_type": "code",
   "execution_count": 75,
   "id": "88885616",
   "metadata": {},
   "outputs": [],
   "source": [
    "## MSE\n",
    "MSE_Linear = mean_squared_error(y_test,y_pred_Linear)\n",
    "MSE_Ridge = mean_squared_error(y_test,y_pred_Ridge)\n",
    "MSE_Lasso = mean_squared_error(y_test,y_pred_Lasso)\n",
    "MSE_ElasticNet = mean_squared_error(y_test,y_pred_ElasticNet)\n",
    "MSE_RandomForestRegressor = mean_squared_error(y_test,y_pred_RandomForestRegressor)\n",
    "\n",
    "#R-Square\n",
    "R2_Linear = r2_score(y_test,y_pred_Linear)\n",
    "R2_Ridge = r2_score(y_test,y_pred_Ridge)\n",
    "R2_Lasso = r2_score(y_test,y_pred_Lasso)\n",
    "R2_ElasticNet = r2_score(y_test,y_pred_ElasticNet)\n",
    "R2_RandomForestRegressor = r2_score(y_test,y_pred_RandomForestRegressor)\n"
   ]
  },
  {
   "cell_type": "code",
   "execution_count": 76,
   "id": "0dd03aa6",
   "metadata": {},
   "outputs": [
    {
     "name": "stdout",
     "output_type": "stream",
     "text": [
      "MSE_Linear : 0.0025075951326963292\n",
      "MSE_Ridge : 0.0017456264904573303\n",
      "MSE_Lasso : 0.06126306017711056\n",
      "MSE_ElasticNet : 0.06126306017711056\n",
      "MSE_RandomForestRegressor :  0.005291593137678234\n"
     ]
    }
   ],
   "source": [
    "print('MSE_Linear :',MSE_Linear)\n",
    "print('MSE_Ridge :',MSE_Ridge)\n",
    "print('MSE_Lasso :',MSE_Lasso)\n",
    "print('MSE_ElasticNet :',MSE_ElasticNet)\n",
    "print('MSE_RandomForestRegressor : ',MSE_RandomForestRegressor)"
   ]
  },
  {
   "cell_type": "code",
   "execution_count": 77,
   "id": "e5eeec70",
   "metadata": {},
   "outputs": [
    {
     "name": "stdout",
     "output_type": "stream",
     "text": [
      "R2_Linear :  0.9592280845240477\n",
      "R2_Ridge : 0.9716750682661722\n",
      "R2_Lasso : -0.00037940626772255587\n",
      "R2_ElasticNet :  -0.00037940626772255587\n",
      "R2_RandomForestRegressor :  0.9137533583274619\n"
     ]
    }
   ],
   "source": [
    "print('R2_Linear : ',R2_Linear)\n",
    "print('R2_Ridge :',R2_Ridge)\n",
    "print('R2_Lasso :',R2_Lasso)\n",
    "print('R2_ElasticNet : ',R2_ElasticNet)\n",
    "print('R2_RandomForestRegressor : ',R2_RandomForestRegressor)"
   ]
  },
  {
   "cell_type": "code",
   "execution_count": null,
   "id": "0e169159",
   "metadata": {},
   "outputs": [],
   "source": []
  }
 ],
 "metadata": {
  "kernelspec": {
   "display_name": "Python 3",
   "language": "python",
   "name": "python3"
  },
  "language_info": {
   "codemirror_mode": {
    "name": "ipython",
    "version": 3
   },
   "file_extension": ".py",
   "mimetype": "text/x-python",
   "name": "python",
   "nbconvert_exporter": "python",
   "pygments_lexer": "ipython3",
   "version": "3.8.8"
  }
 },
 "nbformat": 4,
 "nbformat_minor": 5
}
