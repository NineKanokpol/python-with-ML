{
 "cells": [
  {
   "cell_type": "code",
   "execution_count": 1,
   "id": "c2b8e4fc",
   "metadata": {},
   "outputs": [],
   "source": [
    "import pandas as pd\n",
    "import numpy as np\n",
    "import matplotlib.pyplot as plt\n",
    "import os\n",
    "import pymongo\n",
    "from pymongo import MongoClient\n",
    "import datetime\n",
    "import json"
   ]
  },
  {
   "cell_type": "code",
   "execution_count": 2,
   "id": "b5f5583f",
   "metadata": {},
   "outputs": [],
   "source": [
    "client = MongoClient('10.228.8.23',27017)#MongoClient('localhost',27017)"
   ]
  },
  {
   "cell_type": "code",
   "execution_count": 21,
   "id": "05f34ea2",
   "metadata": {},
   "outputs": [],
   "source": [
    "directory='CsvTest'\n",
    "fileList=os.listdir('CsvTest')\n",
    "#print (fileList)\n",
    "for file in fileList:\n",
    "    #print (file)\n",
    "    df = pd.read_csv(\"CsvTest/\"+file)\n",
    "    #print (df)\n",
    "    jsn = json.loads(df.to_json(orient='records')) #'\n",
    "    #print (jsn)\n",
    "    name={\"name\":file};\n",
    "    dat={'data': jsn};\n",
    "    merged = {**name,**dat}\n",
    "    #print (merged)\n",
    "    mydb=client['DataBaseName1']\n",
    "    mycol = mydb[\"Corection1\"]  \n",
    "    result = mycol.insert_one(merged)"
   ]
  },
  {
   "cell_type": "code",
   "execution_count": null,
   "id": "f491c5c7",
   "metadata": {},
   "outputs": [],
   "source": []
  }
 ],
 "metadata": {
  "kernelspec": {
   "display_name": "Python 3 (ipykernel)",
   "language": "python",
   "name": "python3"
  },
  "language_info": {
   "codemirror_mode": {
    "name": "ipython",
    "version": 3
   },
   "file_extension": ".py",
   "mimetype": "text/x-python",
   "name": "python",
   "nbconvert_exporter": "python",
   "pygments_lexer": "ipython3",
   "version": "3.9.7"
  }
 },
 "nbformat": 4,
 "nbformat_minor": 5
}
