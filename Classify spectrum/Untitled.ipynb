{
 "cells": [
  {
   "cell_type": "code",
   "execution_count": 1,
   "id": "a583f299",
   "metadata": {},
   "outputs": [],
   "source": [
    "import rampy as rp"
   ]
  },
  {
   "cell_type": "code",
   "execution_count": null,
   "id": "55ce00f9",
   "metadata": {},
   "outputs": [],
   "source": [
    "rp.baseline()"
   ]
  }
 ],
 "metadata": {
  "kernelspec": {
   "display_name": "Python 3",
   "language": "python",
   "name": "python3"
  },
  "language_info": {
   "codemirror_mode": {
    "name": "ipython",
    "version": 3
   },
   "file_extension": ".py",
   "mimetype": "text/x-python",
   "name": "python",
   "nbconvert_exporter": "python",
   "pygments_lexer": "ipython3",
   "version": "3.8.8"
  }
 },
 "nbformat": 4,
 "nbformat_minor": 5
}
